{
 "cells": [
  {
   "cell_type": "markdown",
   "id": "eb745abd",
   "metadata": {},
   "source": [
    "#### Q1. Why are functions advantageous to have in your programs?\n",
    "##### Ans.- \n",
    "Functions helps to divide the large programs into small groups so that we can read the code, and debug the program faster and better.Functions helps in reducing duplication of code,decomposing complex problems into simpler pieces,and improves clarity of the code."
   ]
  },
  {
   "cell_type": "markdown",
   "id": "9a755b80",
   "metadata": {},
   "source": [
    "#### Q2. When does the code in a function run: when it's specified or when it's called?\n",
    "##### Ans.-\n",
    "A function run/executes when it is called."
   ]
  },
  {
   "cell_type": "markdown",
   "id": "d9644614",
   "metadata": {},
   "source": [
    "#### Q3. What statement creates a function?\n",
    "##### Ans.-\n",
    "The “def” keyword is a statement for defining a function.Eg. def car() creates a function named as car."
   ]
  },
  {
   "cell_type": "markdown",
   "id": "ba563a83",
   "metadata": {},
   "source": [
    "#### Q4. What is the difference between a function and a function call?\n",
    "##### Ans.-\n",
    "A function is a block of code that does a particular operation and returns a result. It usually accepts inputs as parameters and returns a result.\n",
    "\n",
    "Eg:\n",
    "\n",
    "def add(a,b):\n",
    "\n",
    "    return a+ b\n",
    "\n",
    "A function call is the code used to pass control to a function.\n",
    "\n",
    "Eg:\n",
    "\n",
    "b = add(5,6)\n"
   ]
  },
  {
   "cell_type": "markdown",
   "id": "60133c85",
   "metadata": {},
   "source": [
    "#### Q5. How many global scopes are there in a Python program? How many local scopes?\n",
    "##### Ans.-\n",
    "There is only one global scope avaliable in a python program.\n",
    "There can be more than one local scope in a python program."
   ]
  },
  {
   "cell_type": "markdown",
   "id": "3a3f53b4",
   "metadata": {},
   "source": [
    "#### Q6. What happens to variables in a local scope when the function call returns?\n",
    "##### Ans.-\n",
    "A local variable retains its value until the next time the function is called and becomes undefined after the function call completes."
   ]
  },
  {
   "cell_type": "markdown",
   "id": "68833155",
   "metadata": {},
   "source": [
    "#### Q7. What is the concept of a return value? Is it possible to have a return value in an expression?\n",
    "##### Ans.-\n",
    "A return value is the value that a function call evaluates to. \n",
    "\n",
    "Yes, a return value can be used as part of an expression."
   ]
  },
  {
   "cell_type": "markdown",
   "id": "aef0cb0a",
   "metadata": {},
   "source": [
    "#### Q8. If a function does not have a return statement, what is the return value of a call to that function?\n",
    "##### Ans.-\n",
    "If there is no return statement for a function, its return value is None."
   ]
  },
  {
   "cell_type": "markdown",
   "id": "6282b62c",
   "metadata": {},
   "source": [
    "#### Q9. How do you make a function variable refer to the global variable?\n",
    "##### Ans.-\n",
    "A global statement will help a variable in a function to refer to the global variable."
   ]
  },
  {
   "cell_type": "markdown",
   "id": "e1594661",
   "metadata": {},
   "source": [
    "#### Q10. What is the data type of None?\n",
    "##### Ans.-\n",
    "It has its own datatype named as NoneType."
   ]
  },
  {
   "cell_type": "markdown",
   "id": "9f0c9d4f",
   "metadata": {},
   "source": [
    "#### Q11. What does the sentence import areallyourpetsnamederic do?\n",
    "##### Ans.-\n",
    "That import statement imports a module named areallyourpetsnamederic."
   ]
  },
  {
   "cell_type": "markdown",
   "id": "5a9d59c9",
   "metadata": {},
   "source": [
    "#### Q12. If you had a bacon() feature in a spam module, what would you call it after importing spam?\n",
    "##### Ans.-\n",
    "After importing spam module,we can import bacon() by writing \"spam.bacon()\"."
   ]
  },
  {
   "cell_type": "markdown",
   "id": "a2425554",
   "metadata": {},
   "source": [
    "#### Q13. What can you do to save a programme from crashing if it encounters an error?\n",
    "##### Ans.-\n",
    "We can place the line of code that might cause an error in a try clause."
   ]
  },
  {
   "cell_type": "markdown",
   "id": "6071a9b6",
   "metadata": {},
   "source": [
    "#### Q14. What is the purpose of the try clause? What is the purpose of the except clause?\n",
    "##### Ans.-\n",
    "The code that could potentially cause an error goes in the try clause.\n",
    "\n",
    "The code that executes if an error happens goes in the except clause."
   ]
  }
 ],
 "metadata": {
  "kernelspec": {
   "display_name": "Python 3 (ipykernel)",
   "language": "python",
   "name": "python3"
  },
  "language_info": {
   "codemirror_mode": {
    "name": "ipython",
    "version": 3
   },
   "file_extension": ".py",
   "mimetype": "text/x-python",
   "name": "python",
   "nbconvert_exporter": "python",
   "pygments_lexer": "ipython3",
   "version": "3.8.8"
  }
 },
 "nbformat": 4,
 "nbformat_minor": 5
}
