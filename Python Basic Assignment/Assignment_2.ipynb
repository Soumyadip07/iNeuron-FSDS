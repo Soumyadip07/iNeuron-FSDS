{
 "cells": [
  {
   "cell_type": "markdown",
   "id": "81d4b2f1",
   "metadata": {},
   "source": [
    "#### Q1. What are the two values of the Boolean data type? How do you write them?\n",
    "##### Ans.- \n",
    "The two values of Boolean data type are 'TRUE' and 'FALSE'"
   ]
  },
  {
   "cell_type": "markdown",
   "id": "9a0f52ce",
   "metadata": {},
   "source": [
    "#### Q2. What are the three different types of Boolean operators?\n",
    "##### Ans.-\n",
    "The three different types of Boolean operators are AND, OR, and NOT"
   ]
  },
  {
   "attachments": {
    "and.PNG": {
     "image/png": "[encoded data removed]"
    }
   },
   "cell_type": "markdown",
   "id": "a87e6c9c",
   "metadata": {},
   "source": [
    "#### Q3. Make a list of each Boolean operator's truth tables (i.e. every possible combination of Boolean values for the operator and what it evaluate ).\n",
    "##### Ans.-\n",
    "![and.PNG](attachment:and.PNG)"
   ]
  },
  {
   "attachments": {
    "OR.PNG": {
     "image/png": "[encoded data removed]"
    }
   },
   "cell_type": "markdown",
   "id": "67ad6b71",
   "metadata": {},
   "source": [
    "![OR.PNG](attachment:OR.PNG)"
   ]
  },
  {
   "attachments": {
    "not.PNG": {
     "image/png": "[encoded data removed]"
    }
   },
   "cell_type": "markdown",
   "id": "c3944597",
   "metadata": {},
   "source": [
    "![not.PNG](attachment:not.PNG)"
   ]
  },
  {
   "cell_type": "markdown",
   "id": "878341c4",
   "metadata": {},
   "source": [
    "#### Q4. What are the values of the following expressions?\n",
    "##### Ans.-\n",
    "(5 > 4) and (3 == 5): False\n",
    "\n",
    "not (5 > 4): False\n",
    "\n",
    "(5 > 4) or (3 == 5): True\n",
    "\n",
    "not ((5 > 4) or (3 == 5)): False\n",
    "\n",
    "(True and True) and (True == False): False\n",
    "\n",
    "(not False) or (not True): True"
   ]
  },
  {
   "cell_type": "markdown",
   "id": "ff839200",
   "metadata": {},
   "source": [
    "#### Q5. What are the six comparison operators?\n",
    "##### Ans.-\n",
    "The six comaprison operators are as follows:-\n",
    "'>',\n",
    "'<',\n",
    "'>=',\n",
    "'<=',\n",
    "'==',\n",
    "'!='"
   ]
  },
  {
   "cell_type": "markdown",
   "id": "dfd5c2ed",
   "metadata": {},
   "source": [
    "#### Q6. How do you tell the difference between the equal to and assignment operators?Describe a condition and when you would use one.\n",
    "##### Ans.-\n",
    "The equal to operator '==' is a comparison operator, it is used to check if the values on both sides are equal.\n",
    "The assignment operator '=' is used to assign the value on the right to the variable on the left"
   ]
  },
  {
   "cell_type": "code",
   "execution_count": 5,
   "id": "a0bd6073",
   "metadata": {},
   "outputs": [
    {
     "name": "stdout",
     "output_type": "stream",
     "text": [
      "True\n",
      "False\n"
     ]
    }
   ],
   "source": [
    "#Use case \n",
    "a=1 #assigning value of 1 to variable a\n",
    "b=1 #assigning value of 1 to variable b\n",
    "c=2 #assigning value of 2 to variable c\n",
    "print(a==b) #checking if value of varible a & b are same \n",
    "print(a==c) #checking if value of varible a & c are same"
   ]
  },
  {
   "cell_type": "markdown",
   "id": "5ba1938f",
   "metadata": {},
   "source": [
    "#### Q7. Identify the three blocks in this code:\n",
    "##### Ans.-\n",
    "spam = 0\n",
    "\n",
    "BLOCK 1:\n",
    "if spam == 10:\n",
    "print('eggs')\n",
    "\n",
    "BLOCK 2:\n",
    "if spam > 5:\n",
    "print('bacon')\n",
    "\n",
    "BLOCK 3:\n",
    "else:\n",
    "print('ham')\n",
    "print('spam')\n",
    "print('spam')"
   ]
  },
  {
   "cell_type": "markdown",
   "id": "f2dac3ef",
   "metadata": {},
   "source": [
    "#### Q7. Write code that prints Hello if 1 is stored in spam, prints Howdy if 2 is stored in spam, and prints Greetings! if anything else is stored in spam.\n",
    "##### Ans.- "
   ]
  },
  {
   "cell_type": "code",
   "execution_count": 10,
   "id": "d57fb922",
   "metadata": {},
   "outputs": [
    {
     "name": "stdout",
     "output_type": "stream",
     "text": [
      "Howdy\n"
     ]
    }
   ],
   "source": [
    "spam=2\n",
    "if(spam==1):\n",
    "    print('Hello')\n",
    "elif(spam==2):\n",
    "    print('Howdy')\n",
    "else:\n",
    "    print('Greetings!')"
   ]
  },
  {
   "cell_type": "markdown",
   "id": "854e753f",
   "metadata": {},
   "source": [
    "#### Q9. If your programme is stuck in an endless loop, what keys you’ll press?\n",
    "##### Ans.- \n",
    "We can press Ctrl+C keys to stop a endless loop."
   ]
  },
  {
   "cell_type": "markdown",
   "id": "d2416889",
   "metadata": {},
   "source": [
    "#### Q10. How can you tell the difference between break and continue?\n",
    "##### Ans.- \n",
    "The break statement terminates the loop containing it. Control of the program flows to the statement immediately after the body of the loop.If the break statement is inside a nested loop (loop inside another loop), the break statement will terminate the innermost loop.\n",
    "\n",
    "The continue statement is used to skip the rest of the code inside a loop for the current iteration only. Loop does not terminate but continues on with the next iteration."
   ]
  },
  {
   "cell_type": "markdown",
   "id": "c7df0337",
   "metadata": {},
   "source": [
    "#### Q11. In a for loop, what is the difference between range(10), range(0, 10), and range(0, 10, 1)?\n",
    "##### Ans.- \n",
    "range(10) will create a sequence of numbers from 0 to 10.\n",
    "\n",
    "range(0,10) will also create a sequence of numbers from 0 to 10.\n",
    "\n",
    "range(0,10,1) will create a sequence of numbers from 0 to 10,with a increment by 1."
   ]
  },
  {
   "cell_type": "markdown",
   "id": "5ac3b5ad",
   "metadata": {},
   "source": [
    "#### Q12. Write a short program that prints the numbers 1 to 10 using a for loop. Then write an equivalent program that prints the numbers 1 to 10 using a while loop.\n",
    "##### Ans.- "
   ]
  },
  {
   "cell_type": "code",
   "execution_count": 2,
   "id": "e97ddc1f",
   "metadata": {},
   "outputs": [
    {
     "name": "stdout",
     "output_type": "stream",
     "text": [
      "1\n",
      "2\n",
      "3\n",
      "4\n",
      "5\n",
      "6\n",
      "7\n",
      "8\n",
      "9\n",
      "10\n"
     ]
    }
   ],
   "source": [
    "#for loop\n",
    "for a in range(1,11):\n",
    "    print(a)"
   ]
  },
  {
   "cell_type": "code",
   "execution_count": 3,
   "id": "634eb27f",
   "metadata": {},
   "outputs": [
    {
     "name": "stdout",
     "output_type": "stream",
     "text": [
      "1\n",
      "2\n",
      "3\n",
      "4\n",
      "5\n",
      "6\n",
      "7\n",
      "8\n",
      "9\n",
      "10\n"
     ]
    }
   ],
   "source": [
    "#while loop\n",
    "a=1\n",
    "while(a<=10):\n",
    "    print(a)\n",
    "    a+=1"
   ]
  },
  {
   "cell_type": "markdown",
   "id": "80a78607",
   "metadata": {},
   "source": [
    "#### Q13. If you had a function named bacon() inside a module named spam, how would you call it after importing spam?\n",
    "##### Ans.- \n",
    "spam.bacon()"
   ]
  },
  {
   "cell_type": "code",
   "execution_count": null,
   "id": "3adf1078",
   "metadata": {},
   "outputs": [],
   "source": []
  }
 ],
 "metadata": {
  "kernelspec": {
   "display_name": "Python 3 (ipykernel)",
   "language": "python",
   "name": "python3"
  },
  "language_info": {
   "codemirror_mode": {
    "name": "ipython",
    "version": 3
   },
   "file_extension": ".py",
   "mimetype": "text/x-python",
   "name": "python",
   "nbconvert_exporter": "python",
   "pygments_lexer": "ipython3",
   "version": "3.8.8"
  }
 },
 "nbformat": 4,
 "nbformat_minor": 5
}
