{
 "cells": [
  {
   "cell_type": "markdown",
   "id": "c3ab5035",
   "metadata": {},
   "source": [
    "#### 1 Ans.-\n",
    "(*) = Expression \n",
    "\n",
    "('hello') = Values\n",
    "\n",
    "(-87.8) = Values\n",
    "\n",
    "(-) = Expression\n",
    "\n",
    "(/) = Expression\n",
    "\n",
    "(+) = Expression\n",
    "\n",
    "(6) = Values"
   ]
  },
  {
   "cell_type": "markdown",
   "id": "42f85e3e",
   "metadata": {},
   "source": [
    "#### Q2. What is the difference between string and variable?\n",
    "##### Ans.-\n",
    "String is datatype of which stores a collection of one or more characters.\n",
    "\n",
    "Variable is a reserved memory location used to store data. "
   ]
  },
  {
   "cell_type": "markdown",
   "id": "08bc49a3",
   "metadata": {},
   "source": [
    "#### Q3.Describe three different data types.\n",
    "##### Ans.-\n",
    "Float:- Float datatype is used to store floating-point numbers like 5.64,87.5541,741.5475, etc.\n",
    "\n",
    "Int:- Int datatype stores only integer numbers like -4,-32,0,65,4523, etc.\n",
    "\n",
    "List:- List is used to store an ordered collection of different types of data. It is also mutable."
   ]
  },
  {
   "cell_type": "markdown",
   "id": "a7888666",
   "metadata": {},
   "source": [
    "#### Q4.What is an expression made up of? What do all expressions do?\n",
    "#### Ans.-\n",
    "Expression is made up of values, containers,and mathematical operators(operands) e.g.- a = 2 + 3\n",
    "    Expressions are used to evaluate the values or represent the result on the screen."
   ]
  },
  {
   "cell_type": "markdown",
   "id": "e5d41e85",
   "metadata": {},
   "source": [
    "#### Q5.This assignment statements, like spam = 10. What is the difference between an expression and a statement?\n",
    "#### Ans.-\n",
    "An expression is made up of values, identifers,operators and produce atleast one value.We can say every expression is a statement.\n",
    "\n",
    "A statement is just like a command that a python interpreter executes like print."
   ]
  },
  {
   "cell_type": "code",
   "execution_count": 9,
   "id": "d5ea252b",
   "metadata": {},
   "outputs": [
    {
     "name": "stdout",
     "output_type": "stream",
     "text": [
      "22\n"
     ]
    }
   ],
   "source": [
    "#6 Ans.-\n",
    "bacon = 22\n",
    "bacon + 1\n",
    "print(bacon)\n",
    "#The bacon variable contains a value 22"
   ]
  },
  {
   "cell_type": "markdown",
   "id": "026d4e0c",
   "metadata": {},
   "source": [
    "#### 7 Ans.- \n",
    "The values of both term will be same, which is 'spamspamspam'"
   ]
  },
  {
   "cell_type": "markdown",
   "id": "31ee9f54",
   "metadata": {},
   "source": [
    "#### 8 Ans.-\n",
    "eggs is a valid variable name while 100 is invalid because in python we can start a variable name with an alphabet."
   ]
  },
  {
   "cell_type": "markdown",
   "id": "8e8efff6",
   "metadata": {},
   "source": [
    "#### 9 Ans.-\n",
    "For integer= int()\n",
    "\n",
    "For floating-point number= float()\n",
    "\n",
    "For string= str()"
   ]
  },
  {
   "cell_type": "markdown",
   "id": "614bf650",
   "metadata": {},
   "source": [
    "#### 10 Ans.-\n",
    "The expression 'I have eaten ' + 99 + ' burritos.' causes an error because we cannot concatenate string with integer value."
   ]
  }
 ],
 "metadata": {
  "kernelspec": {
   "display_name": "Python 3 (ipykernel)",
   "language": "python",
   "name": "python3"
  },
  "language_info": {
   "codemirror_mode": {
    "name": "ipython",
    "version": 3
   },
   "file_extension": ".py",
   "mimetype": "text/x-python",
   "name": "python",
   "nbconvert_exporter": "python",
   "pygments_lexer": "ipython3",
   "version": "3.8.8"
  }
 },
 "nbformat": 4,
 "nbformat_minor": 5
}
