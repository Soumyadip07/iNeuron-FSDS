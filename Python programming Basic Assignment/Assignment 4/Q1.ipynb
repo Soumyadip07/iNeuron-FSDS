{
 "cells": [
  {
   "cell_type": "code",
   "execution_count": 6,
   "id": "c1de2ec8",
   "metadata": {},
   "outputs": [
    {
     "name": "stdout",
     "output_type": "stream",
     "text": [
      "Enter any number:- 10\n"
     ]
    }
   ],
   "source": [
    "a=int(input('Enter any number:- '))"
   ]
  },
  {
   "cell_type": "code",
   "execution_count": 7,
   "id": "6b5e23a5",
   "metadata": {},
   "outputs": [
    {
     "name": "stdout",
     "output_type": "stream",
     "text": [
      "Factorial of 10 is 3628800\n"
     ]
    }
   ],
   "source": [
    "s=1\n",
    "for i in range(1,a+1):\n",
    "    s=s*i\n",
    "print('Factorial of',a,'is',s)"
   ]
  }
 ],
 "metadata": {
  "kernelspec": {
   "display_name": "Python 3 (ipykernel)",
   "language": "python",
   "name": "python3"
  },
  "language_info": {
   "codemirror_mode": {
    "name": "ipython",
    "version": 3
   },
   "file_extension": ".py",
   "mimetype": "text/x-python",
   "name": "python",
   "nbconvert_exporter": "python",
   "pygments_lexer": "ipython3",
   "version": "3.8.8"
  }
 },
 "nbformat": 4,
 "nbformat_minor": 5
}
