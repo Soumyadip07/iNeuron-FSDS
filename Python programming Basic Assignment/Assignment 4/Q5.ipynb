{
 "cells": [
  {
   "cell_type": "code",
   "execution_count": 25,
   "id": "291b901f",
   "metadata": {},
   "outputs": [
    {
     "name": "stdout",
     "output_type": "stream",
     "text": [
      "Enter the starting point of the interval: 1\n",
      "Enter the end point of the interval: 10000\n"
     ]
    }
   ],
   "source": [
    "start=int(input('Enter the starting point of the interval: '))\n",
    "end=int(input('Enter the end point of the interval: '))"
   ]
  },
  {
   "cell_type": "code",
   "execution_count": 26,
   "id": "01d24e7f",
   "metadata": {},
   "outputs": [
    {
     "name": "stdout",
     "output_type": "stream",
     "text": [
      "The following Armstrong Number are present between 1 & 10000 :\n",
      "1,2,3,4,5,6,7,8,9,153,370,371,407,1634,8208,9474,"
     ]
    }
   ],
   "source": [
    "print('The following Armstrong Number are present between',start,'&',end,':') \n",
    "for n in range(start,(end+1)):\n",
    "    sum=0\n",
    "    l=len(str(n))\n",
    "    i=n\n",
    "    while(i>0):\n",
    "        a=i%10\n",
    "        sum= sum + (a**l)\n",
    "        i= i//10\n",
    "    if(sum==n):\n",
    "        print(n,end=',')"
   ]
  }
 ],
 "metadata": {
  "kernelspec": {
   "display_name": "Python 3 (ipykernel)",
   "language": "python",
   "name": "python3"
  },
  "language_info": {
   "codemirror_mode": {
    "name": "ipython",
    "version": 3
   },
   "file_extension": ".py",
   "mimetype": "text/x-python",
   "name": "python",
   "nbconvert_exporter": "python",
   "pygments_lexer": "ipython3",
   "version": "3.8.13"
  }
 },
 "nbformat": 4,
 "nbformat_minor": 5
}
