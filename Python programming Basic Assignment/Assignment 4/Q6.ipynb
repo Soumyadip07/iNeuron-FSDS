{
 "cells": [
  {
   "cell_type": "code",
   "execution_count": 4,
   "id": "67183122",
   "metadata": {},
   "outputs": [
    {
     "name": "stdout",
     "output_type": "stream",
     "text": [
      "For how many numbers you want to see the summation?: 6\n",
      "Enter the numbers:-\n",
      "65\n",
      "98\n",
      "35\n",
      "24\n",
      "65\n",
      "14\n",
      "The sum of the following natural numbers is: 301\n"
     ]
    }
   ],
   "source": [
    "r=int(input('For how many numbers you want to see the summation?: '))\n",
    "if(r>0):\n",
    "    l=[]\n",
    "    sum=0\n",
    "    print('Enter the numbers:-')\n",
    "    for i in range(0,r):\n",
    "        x=int(input())\n",
    "        if(x>0):\n",
    "            l.append(x)     \n",
    "        else:\n",
    "            print('Please enter a natural number!')\n",
    "            break\n",
    "    sum=0\n",
    "    for i in l:\n",
    "        sum+=i\n",
    "    print('The sum of the following natural numbers is:',sum)\n",
    "else:\n",
    "    print('Please enter a positive number')"
   ]
  }
 ],
 "metadata": {
  "kernelspec": {
   "display_name": "Python 3 (ipykernel)",
   "language": "python",
   "name": "python3"
  },
  "language_info": {
   "codemirror_mode": {
    "name": "ipython",
    "version": 3
   },
   "file_extension": ".py",
   "mimetype": "text/x-python",
   "name": "python",
   "nbconvert_exporter": "python",
   "pygments_lexer": "ipython3",
   "version": "3.8.13"
  }
 },
 "nbformat": 4,
 "nbformat_minor": 5
}
