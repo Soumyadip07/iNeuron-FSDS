{
 "cells": [
  {
   "cell_type": "code",
   "execution_count": 22,
   "id": "e5f7e17c",
   "metadata": {},
   "outputs": [
    {
     "name": "stdout",
     "output_type": "stream",
     "text": [
      "Enter the numbers of elements of the series: 15\n",
      "\n",
      "Fibbonacci Sequence of length 15 is:\n",
      "0 , 1, 1 , 2 , 3 , 5 , 8 , 13 , 21 , 34 , 55 , 89 , 144 , 233 , 377"
     ]
    }
   ],
   "source": [
    "r=int(input('Enter the numbers of elements of the series: '))\n",
    "print('\\nFibbonacci Sequence of length',r,'is:')\n",
    "fst=0\n",
    "sec=1\n",
    "if(r<0):\n",
    "    print('Please enter a positive number!')\n",
    "elif(r==1):\n",
    "    print(fst)\n",
    "elif(r==2):\n",
    "    print(fst,',',sec)\n",
    "else:\n",
    "    print(fst,',',sec,end=', ')\n",
    "    for i in range(2,r):\n",
    "        trd=fst+sec\n",
    "        fst=sec\n",
    "        sec=trd\n",
    "        print(trd,end='')\n",
    "        if(i+1<r):\n",
    "            print(' , ',end='')"
   ]
  }
 ],
 "metadata": {
  "kernelspec": {
   "display_name": "Python 3 (ipykernel)",
   "language": "python",
   "name": "python3"
  },
  "language_info": {
   "codemirror_mode": {
    "name": "ipython",
    "version": 3
   },
   "file_extension": ".py",
   "mimetype": "text/x-python",
   "name": "python",
   "nbconvert_exporter": "python",
   "pygments_lexer": "ipython3",
   "version": "3.8.13"
  }
 },
 "nbformat": 4,
 "nbformat_minor": 5
}
