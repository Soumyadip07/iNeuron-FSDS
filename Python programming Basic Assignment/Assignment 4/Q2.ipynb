{
 "cells": [
  {
   "cell_type": "code",
   "execution_count": 1,
   "id": "bed0cd3b",
   "metadata": {},
   "outputs": [
    {
     "name": "stdout",
     "output_type": "stream",
     "text": [
      "Enter the number of which you want to see the multiplication table: 14\n"
     ]
    }
   ],
   "source": [
    "num=int(input(\"Enter the number of which you want to see the multiplication table: \"))      "
   ]
  },
  {
   "cell_type": "code",
   "execution_count": 2,
   "id": "dac37d93",
   "metadata": {},
   "outputs": [
    {
     "name": "stdout",
     "output_type": "stream",
     "text": [
      "For how many numbers you want to see the table: 15\n"
     ]
    }
   ],
   "source": [
    "rr=int(input('For how many numbers you want to see the table: '))"
   ]
  },
  {
   "cell_type": "code",
   "execution_count": 7,
   "id": "5d73649e",
   "metadata": {},
   "outputs": [
    {
     "name": "stdout",
     "output_type": "stream",
     "text": [
      "Multiplication Table for number 14 :\n",
      "\n",
      "14 x 1 = 14\n",
      "14 x 2 = 28\n",
      "14 x 3 = 42\n",
      "14 x 4 = 56\n",
      "14 x 5 = 70\n",
      "14 x 6 = 84\n",
      "14 x 7 = 98\n",
      "14 x 8 = 112\n",
      "14 x 9 = 126\n",
      "14 x 10 = 140\n",
      "14 x 11 = 154\n",
      "14 x 12 = 168\n",
      "14 x 13 = 182\n",
      "14 x 14 = 196\n",
      "14 x 15 = 210\n"
     ]
    }
   ],
   "source": [
    "print(\"Multiplication Table for number\",num,':\\n')\n",
    "for i in range(1,rr+1):\n",
    "    print(num,'x',i,'=',num*i)"
   ]
  }
 ],
 "metadata": {
  "kernelspec": {
   "display_name": "Python 3 (ipykernel)",
   "language": "python",
   "name": "python3"
  },
  "language_info": {
   "codemirror_mode": {
    "name": "ipython",
    "version": 3
   },
   "file_extension": ".py",
   "mimetype": "text/x-python",
   "name": "python",
   "nbconvert_exporter": "python",
   "pygments_lexer": "ipython3",
   "version": "3.8.13"
  }
 },
 "nbformat": 4,
 "nbformat_minor": 5
}
