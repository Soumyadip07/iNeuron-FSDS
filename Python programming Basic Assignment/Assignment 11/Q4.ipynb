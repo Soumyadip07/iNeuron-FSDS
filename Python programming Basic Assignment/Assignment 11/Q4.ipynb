{
 "cells": [
  {
   "cell_type": "code",
   "execution_count": 2,
   "id": "9a1a9681",
   "metadata": {},
   "outputs": [
    {
     "name": "stdout",
     "output_type": "stream",
     "text": [
      "Enter a string: 1011001\n",
      "Binary STRING\n"
     ]
    }
   ],
   "source": [
    "word=input('Enter a string: ')\n",
    "flag=0\n",
    "for i in word:\n",
    "    if((i=='1')or(i=='0')):\n",
    "        flag=1\n",
    "        continue\n",
    "    else:\n",
    "        flag=0\n",
    "        break\n",
    "if(flag==1):\n",
    "    print('Binary STRING')\n",
    "else:\n",
    "    print('Not a binary string')"
   ]
  }
 ],
 "metadata": {
  "kernelspec": {
   "display_name": "Python 3 (ipykernel)",
   "language": "python",
   "name": "python3"
  },
  "language_info": {
   "codemirror_mode": {
    "name": "ipython",
    "version": 3
   },
   "file_extension": ".py",
   "mimetype": "text/x-python",
   "name": "python",
   "nbconvert_exporter": "python",
   "pygments_lexer": "ipython3",
   "version": "3.8.13"
  }
 },
 "nbformat": 4,
 "nbformat_minor": 5
}
