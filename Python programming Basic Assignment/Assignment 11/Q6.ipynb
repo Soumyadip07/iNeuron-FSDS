{
 "cells": [
  {
   "cell_type": "code",
   "execution_count": 2,
   "id": "628dff7c",
   "metadata": {},
   "outputs": [
    {
     "name": "stdout",
     "output_type": "stream",
     "text": [
      "Enter a string: ineuron full stack data science course\n",
      "Duplicate characters are: ['o', 'a', 't', 'c', 'u', 'l', 'e', 's', ' ', 'n', 'r', 'i']\n"
     ]
    }
   ],
   "source": [
    "word=input('Enter a string: ')\n",
    "ndl= []\n",
    "dl= []\n",
    "for i in word:\n",
    "    if i not in ndl:\n",
    "        ndl.append(i)\n",
    "    else:\n",
    "        dl.append(i)\n",
    "dl1=list(set(dl))\n",
    "print('Duplicate characters are:',dl1)"
   ]
  }
 ],
 "metadata": {
  "kernelspec": {
   "display_name": "Python 3 (ipykernel)",
   "language": "python",
   "name": "python3"
  },
  "language_info": {
   "codemirror_mode": {
    "name": "ipython",
    "version": 3
   },
   "file_extension": ".py",
   "mimetype": "text/x-python",
   "name": "python",
   "nbconvert_exporter": "python",
   "pygments_lexer": "ipython3",
   "version": "3.8.13"
  }
 },
 "nbformat": 4,
 "nbformat_minor": 5
}
