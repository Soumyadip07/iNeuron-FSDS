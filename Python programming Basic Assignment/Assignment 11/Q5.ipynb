{
 "cells": [
  {
   "cell_type": "code",
   "execution_count": 4,
   "id": "79e36e7b",
   "metadata": {},
   "outputs": [
    {
     "name": "stdout",
     "output_type": "stream",
     "text": [
      "Enter the string 1: data science\n",
      "Enter the string 2: ineuron data science\n",
      "['ineuron']\n"
     ]
    }
   ],
   "source": [
    "word1= input(\"Enter the string 1: \")\n",
    "word2= input(\"Enter the string 2: \")\n",
    "uncw=[i for i in \"\".join(word2).split() if i not in \"\".join(word1).split()]\n",
    "print(uncw)"
   ]
  }
 ],
 "metadata": {
  "kernelspec": {
   "display_name": "Python 3 (ipykernel)",
   "language": "python",
   "name": "python3"
  },
  "language_info": {
   "codemirror_mode": {
    "name": "ipython",
    "version": 3
   },
   "file_extension": ".py",
   "mimetype": "text/x-python",
   "name": "python",
   "nbconvert_exporter": "python",
   "pygments_lexer": "ipython3",
   "version": "3.8.13"
  }
 },
 "nbformat": 4,
 "nbformat_minor": 5
}
