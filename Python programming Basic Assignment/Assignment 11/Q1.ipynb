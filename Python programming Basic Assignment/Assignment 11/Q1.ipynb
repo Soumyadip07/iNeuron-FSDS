{
 "cells": [
  {
   "cell_type": "code",
   "execution_count": 1,
   "id": "79c86a1e",
   "metadata": {},
   "outputs": [
    {
     "name": "stdout",
     "output_type": "stream",
     "text": [
      "Enter the string: iNeuron Data Science \n",
      "Enter the length of the string: 4\n",
      "iNeuron,Science\n"
     ]
    }
   ],
   "source": [
    "word= input(\"Enter the string: \")\n",
    "l= int(input('Enter the length of the string: '))\n",
    "st=[]\n",
    "for i in word.split(\" \"):\n",
    "    if len(i)>l:\n",
    "        st.append(i)\n",
    "print(','.join(st))"
   ]
  }
 ],
 "metadata": {
  "kernelspec": {
   "display_name": "Python 3 (ipykernel)",
   "language": "python",
   "name": "python3"
  },
  "language_info": {
   "codemirror_mode": {
    "name": "ipython",
    "version": 3
   },
   "file_extension": ".py",
   "mimetype": "text/x-python",
   "name": "python",
   "nbconvert_exporter": "python",
   "pygments_lexer": "ipython3",
   "version": "3.8.13"
  }
 },
 "nbformat": 4,
 "nbformat_minor": 5
}
