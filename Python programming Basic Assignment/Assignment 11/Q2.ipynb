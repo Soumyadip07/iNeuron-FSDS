{
 "cells": [
  {
   "cell_type": "code",
   "execution_count": 2,
   "id": "bd0837c7",
   "metadata": {},
   "outputs": [
    {
     "name": "stdout",
     "output_type": "stream",
     "text": [
      "Enter a word: soumyadip\n",
      "Enter the ith Character: 5\n",
      "soumadip\n"
     ]
    }
   ],
   "source": [
    "word= input(\"Enter a word: \")\n",
    "chrle=int(input(\"Enter the ith Character: \"))\n",
    "chrle-=1\n",
    "ts=''\n",
    "for i in range(len(word)):\n",
    "    if i !=chrle:\n",
    "        ts=ts+word[i]\n",
    "print(ts)"
   ]
  }
 ],
 "metadata": {
  "kernelspec": {
   "display_name": "Python 3 (ipykernel)",
   "language": "python",
   "name": "python3"
  },
  "language_info": {
   "codemirror_mode": {
    "name": "ipython",
    "version": 3
   },
   "file_extension": ".py",
   "mimetype": "text/x-python",
   "name": "python",
   "nbconvert_exporter": "python",
   "pygments_lexer": "ipython3",
   "version": "3.8.13"
  }
 },
 "nbformat": 4,
 "nbformat_minor": 5
}
