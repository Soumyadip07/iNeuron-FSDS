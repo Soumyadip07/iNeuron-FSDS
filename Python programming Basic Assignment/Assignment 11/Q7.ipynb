{
 "cells": [
  {
   "cell_type": "code",
   "execution_count": 1,
   "id": "37a66fc0",
   "metadata": {},
   "outputs": [
    {
     "name": "stdout",
     "output_type": "stream",
     "text": [
      "Enter a string: Hello@World.\n",
      "Special characters present in the given string: ['@', '.']\n"
     ]
    }
   ],
   "source": [
    "special_char='[@_!#$%^&*()<>?/\\|}{~:.+-*]'\n",
    "word=input('Enter a string: ')\n",
    "spc=[]\n",
    "for i in word:\n",
    "    if i in special_char:\n",
    "        spc.append(i)\n",
    "print('Special characters present in the given string:',spc)"
   ]
  }
 ],
 "metadata": {
  "kernelspec": {
   "display_name": "Python 3 (ipykernel)",
   "language": "python",
   "name": "python3"
  },
  "language_info": {
   "codemirror_mode": {
    "name": "ipython",
    "version": 3
   },
   "file_extension": ".py",
   "mimetype": "text/x-python",
   "name": "python",
   "nbconvert_exporter": "python",
   "pygments_lexer": "ipython3",
   "version": "3.8.13"
  }
 },
 "nbformat": 4,
 "nbformat_minor": 5
}
