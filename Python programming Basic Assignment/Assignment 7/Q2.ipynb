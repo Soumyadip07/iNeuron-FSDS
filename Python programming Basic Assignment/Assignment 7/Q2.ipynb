{
 "cells": [
  {
   "cell_type": "code",
   "execution_count": 1,
   "id": "4f506e3d",
   "metadata": {},
   "outputs": [
    {
     "name": "stdout",
     "output_type": "stream",
     "text": [
      "Enter the size of the array: 5\n",
      "Enter the elements: \n",
      "63\n",
      "58\n",
      "94\n",
      "25\n",
      "64\n",
      "Largest element in the array is:  94.0\n"
     ]
    }
   ],
   "source": [
    "arr=[]\n",
    "n=int(input('Enter the size of the array: '))\n",
    "print('Enter the elements: ')\n",
    "for i in range(0,n):\n",
    "    x=float(input())\n",
    "    arr.append(x)\n",
    "maximum=arr[0]\n",
    "for i in arr:\n",
    "    if(i>maximum):\n",
    "        maximum=i\n",
    "print('Largest element in the array is: ',maximum)"
   ]
  }
 ],
 "metadata": {
  "kernelspec": {
   "display_name": "Python 3 (ipykernel)",
   "language": "python",
   "name": "python3"
  },
  "language_info": {
   "codemirror_mode": {
    "name": "ipython",
    "version": 3
   },
   "file_extension": ".py",
   "mimetype": "text/x-python",
   "name": "python",
   "nbconvert_exporter": "python",
   "pygments_lexer": "ipython3",
   "version": "3.8.13"
  }
 },
 "nbformat": 4,
 "nbformat_minor": 5
}
