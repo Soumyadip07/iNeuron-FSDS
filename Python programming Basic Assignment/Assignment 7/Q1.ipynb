{
 "cells": [
  {
   "cell_type": "code",
   "execution_count": 2,
   "id": "928dde41",
   "metadata": {},
   "outputs": [
    {
     "name": "stdout",
     "output_type": "stream",
     "text": [
      "Enter the size of the array: 5\n",
      "Enter the elements: \n",
      "10\n",
      "15\n",
      "20\n",
      "25\n",
      "30\n",
      "Sum of array elements:  100.0\n"
     ]
    }
   ],
   "source": [
    "arr=[]\n",
    "n=int(input('Enter the size of the array: '))\n",
    "print('Enter the elements: ')\n",
    "for i in range(0,n):\n",
    "    x=float(input())\n",
    "    arr.append(x)\n",
    "ss=0\n",
    "for i in arr:\n",
    "    ss+=i\n",
    "print('Sum of array elements: ',ss)"
   ]
  }
 ],
 "metadata": {
  "kernelspec": {
   "display_name": "Python 3 (ipykernel)",
   "language": "python",
   "name": "python3"
  },
  "language_info": {
   "codemirror_mode": {
    "name": "ipython",
    "version": 3
   },
   "file_extension": ".py",
   "mimetype": "text/x-python",
   "name": "python",
   "nbconvert_exporter": "python",
   "pygments_lexer": "ipython3",
   "version": "3.8.13"
  }
 },
 "nbformat": 4,
 "nbformat_minor": 5
}
