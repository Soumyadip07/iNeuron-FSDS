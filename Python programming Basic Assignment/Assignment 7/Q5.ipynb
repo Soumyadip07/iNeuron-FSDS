{
 "cells": [
  {
   "cell_type": "code",
   "execution_count": 9,
   "id": "dc0bdd05",
   "metadata": {},
   "outputs": [
    {
     "name": "stdout",
     "output_type": "stream",
     "text": [
      "Enter the size of the array: 4\n",
      "Enter the elements: \n",
      "6\n",
      "2\n",
      "4\n",
      "2\n",
      "Is not a monotonic array\n"
     ]
    }
   ],
   "source": [
    "def ismt(a,n):\n",
    "    if n==1:\n",
    "        return True\n",
    "    else:\n",
    "        if(all(a[i]>=a[i+1] for i in range(0,n-1) or a[i]<=a[i+1] for i in range(0,n-1))):\n",
    "            return True\n",
    "        else:\n",
    "            return False\n",
    "arr=[]\n",
    "n=int(input('Enter the size of the array: '))\n",
    "print('Enter the elements: ')\n",
    "for i in range(0,n):\n",
    "    x=int(input())\n",
    "    arr.append(x)\n",
    "z=ismt(arr,n)\n",
    "if(z==True):\n",
    "    print('Is a monotonic array')\n",
    "else:\n",
    "    print('Is not a monotonic array')"
   ]
  }
 ],
 "metadata": {
  "kernelspec": {
   "display_name": "Python 3 (ipykernel)",
   "language": "python",
   "name": "python3"
  },
  "language_info": {
   "codemirror_mode": {
    "name": "ipython",
    "version": 3
   },
   "file_extension": ".py",
   "mimetype": "text/x-python",
   "name": "python",
   "nbconvert_exporter": "python",
   "pygments_lexer": "ipython3",
   "version": "3.8.13"
  }
 },
 "nbformat": 4,
 "nbformat_minor": 5
}
