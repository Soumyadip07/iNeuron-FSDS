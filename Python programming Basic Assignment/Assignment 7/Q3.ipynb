{
 "cells": [
  {
   "cell_type": "code",
   "execution_count": 1,
   "id": "002603b1",
   "metadata": {},
   "outputs": [],
   "source": [
    "#array rotation"
   ]
  },
  {
   "cell_type": "code",
   "execution_count": 13,
   "id": "f10a62f1",
   "metadata": {},
   "outputs": [
    {
     "name": "stdout",
     "output_type": "stream",
     "text": [
      "Enter the size of the array: 10\n",
      "Enter the elements: \n",
      "3\n",
      "5\n",
      "6\n",
      "8\n",
      "4\n",
      "1\n",
      "6\n",
      "7\n",
      "5\n",
      "9\n"
     ]
    }
   ],
   "source": [
    "#input array\n",
    "arr=[]\n",
    "n=int(input('Enter the size of the array: '))\n",
    "print('Enter the elements: ')\n",
    "for i in range(0,n):\n",
    "    x=int(input())\n",
    "    arr.append(x)"
   ]
  },
  {
   "cell_type": "code",
   "execution_count": 15,
   "id": "fcf7c279",
   "metadata": {},
   "outputs": [
    {
     "name": "stdout",
     "output_type": "stream",
     "text": [
      "Original Array:4 1 6 7 5 9 3 5 6 8 \n",
      "Enter the number of times array will be rotated: 4\n",
      "After 4 time rotation, array formed: \n",
      "5 9 3 5 6 8 4 1 6 7 "
     ]
    }
   ],
   "source": [
    "print('Original Array:',end='')\n",
    "for i in arr:\n",
    "    print(i,end=' ')\n",
    "x=int(input('\\nEnter the number of times array will be rotated: '))\n",
    "for i in range(0,x):    \n",
    "    first=arr[0];    \n",
    "    for j in range(0,n-1):       \n",
    "        arr[j] = arr[j+1];    \n",
    "    arr[n-1] = first;  \n",
    "print('After',x,'time rotation, array formed: ')\n",
    "for i in arr:\n",
    "    print(i,end=' ')"
   ]
  }
 ],
 "metadata": {
  "kernelspec": {
   "display_name": "Python 3 (ipykernel)",
   "language": "python",
   "name": "python3"
  },
  "language_info": {
   "codemirror_mode": {
    "name": "ipython",
    "version": 3
   },
   "file_extension": ".py",
   "mimetype": "text/x-python",
   "name": "python",
   "nbconvert_exporter": "python",
   "pygments_lexer": "ipython3",
   "version": "3.8.13"
  }
 },
 "nbformat": 4,
 "nbformat_minor": 5
}
