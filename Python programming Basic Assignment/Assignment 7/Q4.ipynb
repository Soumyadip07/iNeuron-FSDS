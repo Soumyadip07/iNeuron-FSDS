{
 "cells": [
  {
   "cell_type": "code",
   "execution_count": 10,
   "id": "1069b58d",
   "metadata": {},
   "outputs": [],
   "source": [
    "#split function\n",
    "def SplArr(arr,n,h):\n",
    "    for i in range(0,h):\n",
    "        x = arr[0]\n",
    "        for j in range(0, n-1):\n",
    "            arr[j] = arr[j + 1]\n",
    "        arr[n-1] = x\n",
    "    print('\\nAfter splitting the array:',end='')\n",
    "    for i in arr:\n",
    "        print(i,end=' ')"
   ]
  },
  {
   "cell_type": "code",
   "execution_count": 4,
   "id": "fd708448",
   "metadata": {},
   "outputs": [
    {
     "name": "stdout",
     "output_type": "stream",
     "text": [
      "Enter the size of the array: 6\n",
      "Enter the elements: \n",
      "13\n",
      "45\n",
      "84\n",
      "985\n",
      "13\n",
      "54\n"
     ]
    }
   ],
   "source": [
    "#input array\n",
    "arr=[]\n",
    "n=int(input('Enter the size of the array: '))\n",
    "print('Enter the elements: ')\n",
    "for i in range(0,n):\n",
    "    x=int(input())\n",
    "    arr.append(x)"
   ]
  },
  {
   "cell_type": "code",
   "execution_count": 11,
   "id": "4253afa3",
   "metadata": {},
   "outputs": [
    {
     "name": "stdout",
     "output_type": "stream",
     "text": [
      "Original Array:13 45 84 985 13 54 \n",
      "After splitting the array:985 13 54 13 45 84 "
     ]
    }
   ],
   "source": [
    "print('Original Array:',end='')\n",
    "for i in arr:\n",
    "    print(i,end=' ')\n",
    "npos=int(n/2)\n",
    "SplArr(arr,n,npos)"
   ]
  }
 ],
 "metadata": {
  "kernelspec": {
   "display_name": "Python 3 (ipykernel)",
   "language": "python",
   "name": "python3"
  },
  "language_info": {
   "codemirror_mode": {
    "name": "ipython",
    "version": 3
   },
   "file_extension": ".py",
   "mimetype": "text/x-python",
   "name": "python",
   "nbconvert_exporter": "python",
   "pygments_lexer": "ipython3",
   "version": "3.8.13"
  }
 },
 "nbformat": 4,
 "nbformat_minor": 5
}
