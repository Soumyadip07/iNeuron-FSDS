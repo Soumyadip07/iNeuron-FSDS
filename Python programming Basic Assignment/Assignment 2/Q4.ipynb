{
 "cells": [
  {
   "cell_type": "code",
   "execution_count": 6,
   "id": "1b34efe7",
   "metadata": {},
   "outputs": [
    {
     "name": "stdout",
     "output_type": "stream",
     "text": [
      "Enter the values of the quadratic equation:-\n",
      "Enter the value of a:1\n",
      "Enter the value of b:4\n",
      "Enter the value of c:5\n"
     ]
    }
   ],
   "source": [
    "print('Enter the values of the quadratic equation:-')\n",
    "a=float(input('Enter the value of a:'))\n",
    "b=float(input('Enter the value of b:'))\n",
    "c=float(input('Enter the value of c:'))"
   ]
  },
  {
   "cell_type": "code",
   "execution_count": 10,
   "id": "d9a98d87",
   "metadata": {},
   "outputs": [
    {
     "name": "stdout",
     "output_type": "stream",
     "text": [
      "The solutions are: (-2+1j) and (-2-1j)\n"
     ]
    }
   ],
   "source": [
    "import cmath\n",
    "d=(b**2)-(4*a*c)\n",
    "if(d > 0):\n",
    "    x1=((-b)+cmath.sqrt(d))/(2*a)\n",
    "    x2=(((-b)-cmath.sqrt(d))/(2*a))\n",
    "    print('The solutions are:',x1,'and',x2)\n",
    "elif(d==0):\n",
    "    x=(-b)/(2/a)\n",
    "    print('The solution is:',x)\n",
    "else:\n",
    "    x3=((-b)+cmath.sqrt(d))/(2*a)\n",
    "    x4=((-b)-cmath.sqrt(d))/(2*a)\n",
    "    print('The solutions are:',x3,'and',x4)"
   ]
  }
 ],
 "metadata": {
  "kernelspec": {
   "display_name": "Python 3 (ipykernel)",
   "language": "python",
   "name": "python3"
  },
  "language_info": {
   "codemirror_mode": {
    "name": "ipython",
    "version": 3
   },
   "file_extension": ".py",
   "mimetype": "text/x-python",
   "name": "python",
   "nbconvert_exporter": "python",
   "pygments_lexer": "ipython3",
   "version": "3.8.8"
  }
 },
 "nbformat": 4,
 "nbformat_minor": 5
}
