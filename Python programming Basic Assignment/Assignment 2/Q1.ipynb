{
 "cells": [
  {
   "cell_type": "code",
   "execution_count": 5,
   "id": "17e694f1",
   "metadata": {},
   "outputs": [
    {
     "name": "stdout",
     "output_type": "stream",
     "text": [
      "Enter a value in kilometers: 68.57\n"
     ]
    }
   ],
   "source": [
    "km=float(input('Enter a value in kilometers: '))"
   ]
  },
  {
   "cell_type": "code",
   "execution_count": 8,
   "id": "89a1928d",
   "metadata": {},
   "outputs": [
    {
     "name": "stdout",
     "output_type": "stream",
     "text": [
      "68.57 KM is equals to 42.6073409 miles\n"
     ]
    }
   ],
   "source": [
    "miles=km*0.62137\n",
    "print(km,'KM is equals to',miles,'miles')"
   ]
  }
 ],
 "metadata": {
  "kernelspec": {
   "display_name": "Python 3 (ipykernel)",
   "language": "python",
   "name": "python3"
  },
  "language_info": {
   "codemirror_mode": {
    "name": "ipython",
    "version": 3
   },
   "file_extension": ".py",
   "mimetype": "text/x-python",
   "name": "python",
   "nbconvert_exporter": "python",
   "pygments_lexer": "ipython3",
   "version": "3.8.8"
  }
 },
 "nbformat": 4,
 "nbformat_minor": 5
}
