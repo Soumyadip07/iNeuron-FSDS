{
 "cells": [
  {
   "cell_type": "code",
   "execution_count": 2,
   "id": "ea32bb2b",
   "metadata": {},
   "outputs": [
    {
     "name": "stdout",
     "output_type": "stream",
     "text": [
      "Enter temperature in Celcius:- 87\n"
     ]
    }
   ],
   "source": [
    "tem=float(input(\"Enter temperature in Celcius:- \"))"
   ]
  },
  {
   "cell_type": "code",
   "execution_count": 4,
   "id": "20cfb024",
   "metadata": {},
   "outputs": [
    {
     "name": "stdout",
     "output_type": "stream",
     "text": [
      "The temperature in fahrenheit is:-  188.6 F\n"
     ]
    }
   ],
   "source": [
    "fah=float(((tem*(9/5)+32)))\n",
    "print(\"The temperature in fahrenheit is:- \",fah,'F')"
   ]
  }
 ],
 "metadata": {
  "kernelspec": {
   "display_name": "Python 3 (ipykernel)",
   "language": "python",
   "name": "python3"
  },
  "language_info": {
   "codemirror_mode": {
    "name": "ipython",
    "version": 3
   },
   "file_extension": ".py",
   "mimetype": "text/x-python",
   "name": "python",
   "nbconvert_exporter": "python",
   "pygments_lexer": "ipython3",
   "version": "3.8.8"
  }
 },
 "nbformat": 4,
 "nbformat_minor": 5
}
