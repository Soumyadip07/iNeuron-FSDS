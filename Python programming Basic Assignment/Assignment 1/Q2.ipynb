{
 "cells": [
  {
   "cell_type": "code",
   "execution_count": 4,
   "id": "74743d0e",
   "metadata": {},
   "outputs": [
    {
     "name": "stdout",
     "output_type": "stream",
     "text": [
      "Enter 1st number- 10\n",
      "Enter 2nd number- 2\n",
      "Enter 3rd number- 5\n"
     ]
    }
   ],
   "source": [
    "a=int(input('Enter 1st number- '))\n",
    "b=int(input('Enter 2nd number- '))\n",
    "c=int(input('Enter 3rd number- '))"
   ]
  },
  {
   "cell_type": "code",
   "execution_count": 5,
   "id": "4f0644bc",
   "metadata": {},
   "outputs": [
    {
     "name": "stdout",
     "output_type": "stream",
     "text": [
      "Sum on all 3 numbers is: 17\n"
     ]
    }
   ],
   "source": [
    "print('Sum on all 3 numbers is:',a+b+c) #addition"
   ]
  },
  {
   "cell_type": "code",
   "execution_count": 6,
   "id": "f30472e6",
   "metadata": {},
   "outputs": [
    {
     "name": "stdout",
     "output_type": "stream",
     "text": [
      "1st number divided by 3rd number gives result as: 2.0\n"
     ]
    }
   ],
   "source": [
    "print('1st number divided by 3rd number gives result as:',a/c) #division"
   ]
  }
 ],
 "metadata": {
  "kernelspec": {
   "display_name": "Python 3 (ipykernel)",
   "language": "python",
   "name": "python3"
  },
  "language_info": {
   "codemirror_mode": {
    "name": "ipython",
    "version": 3
   },
   "file_extension": ".py",
   "mimetype": "text/x-python",
   "name": "python",
   "nbconvert_exporter": "python",
   "pygments_lexer": "ipython3",
   "version": "3.8.8"
  }
 },
 "nbformat": 4,
 "nbformat_minor": 5
}
