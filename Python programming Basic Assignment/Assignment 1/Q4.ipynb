{
 "cells": [
  {
   "cell_type": "code",
   "execution_count": 19,
   "id": "4e466ed0",
   "metadata": {},
   "outputs": [
    {
     "name": "stdout",
     "output_type": "stream",
     "text": [
      "Enter a number: 56\n",
      "Enter another number: 74\n"
     ]
    }
   ],
   "source": [
    "a=int(input('Enter a number: '))\n",
    "b=int(input('Enter another number: '))"
   ]
  },
  {
   "cell_type": "code",
   "execution_count": 20,
   "id": "7923191e",
   "metadata": {},
   "outputs": [
    {
     "name": "stdout",
     "output_type": "stream",
     "text": [
      "a = 56 \n",
      "b = 74\n"
     ]
    }
   ],
   "source": [
    "print('a =',a,'\\nb =',b)"
   ]
  },
  {
   "cell_type": "code",
   "execution_count": 21,
   "id": "02a804a9",
   "metadata": {},
   "outputs": [
    {
     "name": "stdout",
     "output_type": "stream",
     "text": [
      "After Swapping \n",
      "a = 74 \n",
      "b = 56\n"
     ]
    }
   ],
   "source": [
    "a=a+b\n",
    "b=a-b\n",
    "a=a-b\n",
    "print('After Swapping','\\na =',a,'\\nb =',b)"
   ]
  }
 ],
 "metadata": {
  "kernelspec": {
   "display_name": "Python 3 (ipykernel)",
   "language": "python",
   "name": "python3"
  },
  "language_info": {
   "codemirror_mode": {
    "name": "ipython",
    "version": 3
   },
   "file_extension": ".py",
   "mimetype": "text/x-python",
   "name": "python",
   "nbconvert_exporter": "python",
   "pygments_lexer": "ipython3",
   "version": "3.8.8"
  }
 },
 "nbformat": 4,
 "nbformat_minor": 5
}
