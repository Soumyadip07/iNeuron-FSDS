{
 "cells": [
  {
   "cell_type": "code",
   "execution_count": 10,
   "id": "5bd69a34",
   "metadata": {},
   "outputs": [
    {
     "name": "stdout",
     "output_type": "stream",
     "text": [
      "Enter the height of the triangle(in cm):4\n",
      "Enter the base of the triangle(in cm):3\n"
     ]
    }
   ],
   "source": [
    "h=int(input('Enter the height of the triangle(in cm):'))\n",
    "b=int(input('Enter the base of the triangle(in cm):'))"
   ]
  },
  {
   "cell_type": "code",
   "execution_count": 11,
   "id": "45e0fadd",
   "metadata": {},
   "outputs": [
    {
     "name": "stdout",
     "output_type": "stream",
     "text": [
      "Area of the triangle is:  6.0 cm^2\n"
     ]
    }
   ],
   "source": [
    "area=0.5*b*h\n",
    "print('Area of the triangle is: ',area, 'cm^2')"
   ]
  }
 ],
 "metadata": {
  "kernelspec": {
   "display_name": "Python 3 (ipykernel)",
   "language": "python",
   "name": "python3"
  },
  "language_info": {
   "codemirror_mode": {
    "name": "ipython",
    "version": 3
   },
   "file_extension": ".py",
   "mimetype": "text/x-python",
   "name": "python",
   "nbconvert_exporter": "python",
   "pygments_lexer": "ipython3",
   "version": "3.8.8"
  }
 },
 "nbformat": 4,
 "nbformat_minor": 5
}
