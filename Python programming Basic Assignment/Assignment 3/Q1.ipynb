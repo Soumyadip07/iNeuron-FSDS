{
 "cells": [
  {
   "cell_type": "code",
   "execution_count": 5,
   "id": "8d40dc67",
   "metadata": {},
   "outputs": [
    {
     "name": "stdout",
     "output_type": "stream",
     "text": [
      "Enter a number:-45\n"
     ]
    }
   ],
   "source": [
    "a = int(input('Enter a number:'))"
   ]
  },
  {
   "cell_type": "code",
   "execution_count": 6,
   "id": "99b2d7c3",
   "metadata": {},
   "outputs": [
    {
     "name": "stdout",
     "output_type": "stream",
     "text": [
      "-45 is a negative number\n"
     ]
    }
   ],
   "source": [
    "if(a>0):\n",
    "    print(a,'is a positive number')\n",
    "elif(a<0):\n",
    "    print(a,'is a negative number')\n",
    "else:\n",
    "    print(a,'is Zero')"
   ]
  }
 ],
 "metadata": {
  "kernelspec": {
   "display_name": "Python 3 (ipykernel)",
   "language": "python",
   "name": "python3"
  },
  "language_info": {
   "codemirror_mode": {
    "name": "ipython",
    "version": 3
   },
   "file_extension": ".py",
   "mimetype": "text/x-python",
   "name": "python",
   "nbconvert_exporter": "python",
   "pygments_lexer": "ipython3",
   "version": "3.8.8"
  }
 },
 "nbformat": 4,
 "nbformat_minor": 5
}
