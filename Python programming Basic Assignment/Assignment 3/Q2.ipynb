{
 "cells": [
  {
   "cell_type": "code",
   "execution_count": 5,
   "id": "3e5f51b5",
   "metadata": {},
   "outputs": [
    {
     "name": "stdout",
     "output_type": "stream",
     "text": [
      "Enter a number: -124\n"
     ]
    }
   ],
   "source": [
    "nu= float(input(\"Enter a number: \"))"
   ]
  },
  {
   "cell_type": "code",
   "execution_count": 7,
   "id": "7daa2e55",
   "metadata": {},
   "outputs": [
    {
     "name": "stdout",
     "output_type": "stream",
     "text": [
      "-124.0 is an even number\n"
     ]
    }
   ],
   "source": [
    "if(nu%2==0):\n",
    "    print(nu,'is an even number')\n",
    "else:\n",
    "    print(nu,'is an odd number')"
   ]
  },
  {
   "cell_type": "code",
   "execution_count": null,
   "id": "daf3efad",
   "metadata": {},
   "outputs": [],
   "source": []
  }
 ],
 "metadata": {
  "kernelspec": {
   "display_name": "Python 3 (ipykernel)",
   "language": "python",
   "name": "python3"
  },
  "language_info": {
   "codemirror_mode": {
    "name": "ipython",
    "version": 3
   },
   "file_extension": ".py",
   "mimetype": "text/x-python",
   "name": "python",
   "nbconvert_exporter": "python",
   "pygments_lexer": "ipython3",
   "version": "3.8.8"
  }
 },
 "nbformat": 4,
 "nbformat_minor": 5
}
