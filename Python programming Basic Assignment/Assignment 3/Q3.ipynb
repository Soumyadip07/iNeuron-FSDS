{
 "cells": [
  {
   "cell_type": "code",
   "execution_count": 6,
   "id": "bcd2f8ab",
   "metadata": {},
   "outputs": [
    {
     "name": "stdout",
     "output_type": "stream",
     "text": [
      "Enter a year: 2022\n"
     ]
    }
   ],
   "source": [
    "yr=int(input('Enter a year: '))"
   ]
  },
  {
   "cell_type": "code",
   "execution_count": 7,
   "id": "ffe00d67",
   "metadata": {},
   "outputs": [
    {
     "name": "stdout",
     "output_type": "stream",
     "text": [
      "2022 is not a leap year\n"
     ]
    }
   ],
   "source": [
    "if(((yr%4==0)and(yr%100!=0))or(yr%400==0)):\n",
    "    print(yr,\"is a leap year\")\n",
    "else:\n",
    "    print(yr,\"is not a leap year\")"
   ]
  }
 ],
 "metadata": {
  "kernelspec": {
   "display_name": "Python 3 (ipykernel)",
   "language": "python",
   "name": "python3"
  },
  "language_info": {
   "codemirror_mode": {
    "name": "ipython",
    "version": 3
   },
   "file_extension": ".py",
   "mimetype": "text/x-python",
   "name": "python",
   "nbconvert_exporter": "python",
   "pygments_lexer": "ipython3",
   "version": "3.8.8"
  }
 },
 "nbformat": 4,
 "nbformat_minor": 5
}
