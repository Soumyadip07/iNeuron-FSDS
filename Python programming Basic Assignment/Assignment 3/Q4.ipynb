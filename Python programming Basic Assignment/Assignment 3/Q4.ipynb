{
 "cells": [
  {
   "cell_type": "code",
   "execution_count": 5,
   "id": "7f128c74",
   "metadata": {},
   "outputs": [
    {
     "name": "stdout",
     "output_type": "stream",
     "text": [
      "Enter a number:- 2\n"
     ]
    }
   ],
   "source": [
    "n=int(input(\"Enter a number:- \"))"
   ]
  },
  {
   "cell_type": "code",
   "execution_count": 7,
   "id": "98145b42",
   "metadata": {},
   "outputs": [
    {
     "name": "stdout",
     "output_type": "stream",
     "text": [
      "2 is a prime number\n"
     ]
    }
   ],
   "source": [
    "f=0\n",
    "for i in range(2,n-1):\n",
    "    if(n%i==0):\n",
    "        f=f+1\n",
    "        break\n",
    "if(f>0):\n",
    "    print(n,\"is not a prime number\")\n",
    "else:\n",
    "    print(n,\"is a prime number\")"
   ]
  }
 ],
 "metadata": {
  "kernelspec": {
   "display_name": "Python 3 (ipykernel)",
   "language": "python",
   "name": "python3"
  },
  "language_info": {
   "codemirror_mode": {
    "name": "ipython",
    "version": 3
   },
   "file_extension": ".py",
   "mimetype": "text/x-python",
   "name": "python",
   "nbconvert_exporter": "python",
   "pygments_lexer": "ipython3",
   "version": "3.8.8"
  }
 },
 "nbformat": 4,
 "nbformat_minor": 5
}
