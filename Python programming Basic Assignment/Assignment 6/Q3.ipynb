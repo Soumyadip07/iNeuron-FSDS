{
 "cells": [
  {
   "cell_type": "code",
   "execution_count": 10,
   "id": "c4c0d4f6",
   "metadata": {},
   "outputs": [
    {
     "name": "stdout",
     "output_type": "stream",
     "text": [
      "Please enter your height in m: 1.8\n",
      "Please enter your weight in kg: 84\n",
      "Your BMI is 25.925925925925924\n",
      "You are overweight😐\n"
     ]
    }
   ],
   "source": [
    "height=float(input('Please enter your height in m: '))\n",
    "weight=float(input('Please enter your weight in kg: '))\n",
    "\n",
    "if((height>0)and(weight>0)):\n",
    "    bmi=(weight/(height**2))\n",
    "    print('Your BMI is',bmi)\n",
    "    if(bmi<18.5):\n",
    "        print('You are underweight!🙁')\n",
    "    elif((bmi>=18.5)and(bmi<=24.9)):\n",
    "        print('You are healthy👍')\n",
    "    elif((bmi>=25)and(bmi<=29.9)):\n",
    "        print('You are overweight😐')\n",
    "    else:\n",
    "        print('You have obesity.🤯')"
   ]
  }
 ],
 "metadata": {
  "kernelspec": {
   "display_name": "Python 3 (ipykernel)",
   "language": "python",
   "name": "python3"
  },
  "language_info": {
   "codemirror_mode": {
    "name": "ipython",
    "version": 3
   },
   "file_extension": ".py",
   "mimetype": "text/x-python",
   "name": "python",
   "nbconvert_exporter": "python",
   "pygments_lexer": "ipython3",
   "version": "3.8.13"
  }
 },
 "nbformat": 4,
 "nbformat_minor": 5
}
