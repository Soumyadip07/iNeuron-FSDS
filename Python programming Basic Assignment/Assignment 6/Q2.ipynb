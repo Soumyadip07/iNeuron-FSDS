{
 "cells": [
  {
   "cell_type": "code",
   "execution_count": 10,
   "id": "752bb688",
   "metadata": {},
   "outputs": [
    {
     "name": "stdout",
     "output_type": "stream",
     "text": [
      "Enter a number:- 7\n",
      "The factorial of 7 is: 5040\n"
     ]
    }
   ],
   "source": [
    "def fact(a):\n",
    "    if(a==1):\n",
    "        return(a)\n",
    "    else:\n",
    "        return a*fact(a-1)\n",
    "\n",
    "n=int(input('Enter a number:- '))\n",
    "if(n<0):\n",
    "    print('Please enter a positive number!')\n",
    "elif(n==0):\n",
    "    print('The factorial of 0 is 1')\n",
    "else:\n",
    "    print('The factorial of',n,'is:',fact(n))"
   ]
  }
 ],
 "metadata": {
  "kernelspec": {
   "display_name": "Python 3 (ipykernel)",
   "language": "python",
   "name": "python3"
  },
  "language_info": {
   "codemirror_mode": {
    "name": "ipython",
    "version": 3
   },
   "file_extension": ".py",
   "mimetype": "text/x-python",
   "name": "python",
   "nbconvert_exporter": "python",
   "pygments_lexer": "ipython3",
   "version": "3.8.13"
  }
 },
 "nbformat": 4,
 "nbformat_minor": 5
}
