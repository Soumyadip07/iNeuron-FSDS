{
 "cells": [
  {
   "cell_type": "code",
   "execution_count": 2,
   "id": "5f6df1ba",
   "metadata": {},
   "outputs": [
    {
     "name": "stdout",
     "output_type": "stream",
     "text": [
      "Enter a number: 35\n",
      "Natural logarithm of 35 is: 3.5553480614894135\n"
     ]
    }
   ],
   "source": [
    "import math\n",
    "a=int(input('Enter a number: '))\n",
    "print('Natural logarithm of',a,'is:',math.log(a))"
   ]
  }
 ],
 "metadata": {
  "kernelspec": {
   "display_name": "Python 3 (ipykernel)",
   "language": "python",
   "name": "python3"
  },
  "language_info": {
   "codemirror_mode": {
    "name": "ipython",
    "version": 3
   },
   "file_extension": ".py",
   "mimetype": "text/x-python",
   "name": "python",
   "nbconvert_exporter": "python",
   "pygments_lexer": "ipython3",
   "version": "3.8.13"
  }
 },
 "nbformat": 4,
 "nbformat_minor": 5
}
