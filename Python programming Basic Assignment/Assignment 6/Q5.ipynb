{
 "cells": [
  {
   "cell_type": "code",
   "execution_count": 5,
   "id": "28c24505",
   "metadata": {},
   "outputs": [
    {
     "name": "stdout",
     "output_type": "stream",
     "text": [
      "Enter the range of natural numbers: 14\n",
      "Cube sum of first 14 natural nummber is: 35672\n"
     ]
    }
   ],
   "source": [
    "r=int(input('Enter the range of natural numbers: '))\n",
    "s=0\n",
    "for i in range(1,r):\n",
    "    s+=(r**3)\n",
    "print('Cube sum of first',r,'natural nummber is:',s)"
   ]
  }
 ],
 "metadata": {
  "kernelspec": {
   "display_name": "Python 3 (ipykernel)",
   "language": "python",
   "name": "python3"
  },
  "language_info": {
   "codemirror_mode": {
    "name": "ipython",
    "version": 3
   },
   "file_extension": ".py",
   "mimetype": "text/x-python",
   "name": "python",
   "nbconvert_exporter": "python",
   "pygments_lexer": "ipython3",
   "version": "3.8.13"
  }
 },
 "nbformat": 4,
 "nbformat_minor": 5
}
