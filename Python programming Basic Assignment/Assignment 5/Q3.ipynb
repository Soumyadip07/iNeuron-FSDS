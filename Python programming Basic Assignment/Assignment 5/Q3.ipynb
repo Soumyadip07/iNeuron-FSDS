{
 "cells": [
  {
   "cell_type": "code",
   "execution_count": 4,
   "id": "189b9dd9",
   "metadata": {},
   "outputs": [
    {
     "name": "stdout",
     "output_type": "stream",
     "text": [
      "Enter a decimal number:-15\n",
      "\n",
      "Enter 1 to convert into Binary \n",
      "Enter 2 to convert into Octal \n",
      "Enter 3 to convert into Hexadecimal \n",
      "Enter 4 to show all\n",
      "Enter your option:-4\n",
      "The binary format of the given decimal is:- 1111\n",
      "The octal format of the given decimal is:- 17\n",
      "The hexadecimal format of the given decimal is:- f\n"
     ]
    }
   ],
   "source": [
    "def toDecimal(n): \n",
    "    if(n>1):\n",
    "        toDecimal(n//2)\n",
    "    print(n%2,end='')\n",
    "def toOctal(n): \n",
    "    i=0\n",
    "    oc=[]\n",
    "    while(n!=0):\n",
    "        oc.append(n%8)\n",
    "        n=int(n/8)\n",
    "        i=i+1\n",
    "    oc.reverse()\n",
    "    for j in oc:\n",
    "        print(j,end='')\n",
    "def toHex(n): #used predifined funtion\n",
    "    print(hex(n).replace(\"0x\",\"\"))\n",
    "    \n",
    "a=int(input(\"Enter a decimal number:-\"))\n",
    "print(\"\\nEnter 1 to convert into Binary\",\"\\nEnter 2 to convert into Octal\",\"\\nEnter 3 to convert into Hexadecimal\",\n",
    "     \"\\nEnter 4 to show all\")\n",
    "o=int(input(\"Enter your option:-\"))\n",
    "if(o==1):\n",
    "    print(\"The binary format of the given decimal is:- \")\n",
    "    toDecimal(a)\n",
    "elif(o==2):\n",
    "    print(\"The octal format of the given decimal is:- \")\n",
    "    toOctal(a)\n",
    "elif(o==3):\n",
    "    print(\"The hexadecimal format of the given decimal is:- \")\n",
    "    toHex(a)\n",
    "elif(o==4):\n",
    "    print(\"The binary format of the given decimal is:- \",end='')\n",
    "    toDecimal(a)\n",
    "    print(\"\\nThe octal format of the given decimal is:- \",end='')\n",
    "    toOctal(a)\n",
    "    print(\"\\nThe hexadecimal format of the given decimal is:- \",end='')\n",
    "    toHex(a)\n",
    "else:\n",
    "    print(\"Wrong Option\")"
   ]
  }
 ],
 "metadata": {
  "kernelspec": {
   "display_name": "Python 3 (ipykernel)",
   "language": "python",
   "name": "python3"
  },
  "language_info": {
   "codemirror_mode": {
    "name": "ipython",
    "version": 3
   },
   "file_extension": ".py",
   "mimetype": "text/x-python",
   "name": "python",
   "nbconvert_exporter": "python",
   "pygments_lexer": "ipython3",
   "version": "3.8.13"
  }
 },
 "nbformat": 4,
 "nbformat_minor": 5
}
