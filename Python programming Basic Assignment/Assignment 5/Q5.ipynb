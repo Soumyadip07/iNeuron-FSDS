{
 "cells": [
  {
   "cell_type": "markdown",
   "id": "337ed8e5",
   "metadata": {},
   "source": [
    "### Simple Calculator\n",
    "#### It can perform 4 basic mathematical operations of multiple numbers"
   ]
  },
  {
   "cell_type": "code",
   "execution_count": 15,
   "id": "c9d213ed",
   "metadata": {},
   "outputs": [
    {
     "name": "stdout",
     "output_type": "stream",
     "text": [
      "\n",
      "Enter 1 to perform sum \n",
      "Enter 2 to perform substraction \n",
      "Enter 3 to perform multiplication \n",
      "Enter 4 to perform division\n",
      "Enter your option:-2\n",
      "How many elements you want to perform substraction? 4\n",
      "Enter the elements\n",
      "25\n",
      "5\n",
      "4\n",
      "1\n",
      "Substraction is: 15.0\n"
     ]
    }
   ],
   "source": [
    "def ctel(n):\n",
    "    l=[]\n",
    "    print('Enter the elements')\n",
    "    for i in range(0,n):\n",
    "        g=input()\n",
    "        l.append(g)\n",
    "    for j in range(0,len(l)):\n",
    "        l[j]=float(l[j])\n",
    "    return(l)\n",
    "def Add(lt):\n",
    "    sm=0\n",
    "    for i in lt:\n",
    "        sm+=i\n",
    "    print('Sum is:',sm)\n",
    "def Sub(lt):\n",
    "    le=len(lt)\n",
    "    sb=0\n",
    "    for i in range(0,le):\n",
    "        if(i==0):\n",
    "            sb+=lt[i]\n",
    "        else:\n",
    "            sb-=lt[i]\n",
    "    print('Substraction is:',sb)\n",
    "def Multi(lt):\n",
    "    mlt=1\n",
    "    for i in lt:\n",
    "        mlt*=i\n",
    "    print(\"Multiplication is:\",mlt)\n",
    "def Div(x,y):\n",
    "    print('Division is:',(x/y))\n",
    "print(\"\\nEnter 1 to perform sum\",\"\\nEnter 2 to perform substraction\",\"\\nEnter 3 to perform multiplication\",\n",
    "     \"\\nEnter 4 to perform division\")\n",
    "o=int(input(\"Enter your option:-\"))\n",
    "if(o==1):\n",
    "    x=int(input('How many elements you want to perform sum? '))\n",
    "    lst=ctel(x)\n",
    "    Add(lst)\n",
    "elif(o==2):\n",
    "    x=int(input('How many elements you want to perform substraction? '))\n",
    "    lst=ctel(x)\n",
    "    Sub(lst)\n",
    "elif(o==3):\n",
    "    x=int(input('How many elements you want to perform multiplication? '))\n",
    "    lst=ctel(x)\n",
    "    Multi(lst)\n",
    "elif(o==4):\n",
    "    a=float(input(\"Enter 1st element: \"))\n",
    "    b=float(input(\"Enter 2nd element: \"))\n",
    "    Div(a,b)\n",
    "else:\n",
    "    print(\"Invalid Input\")"
   ]
  }
 ],
 "metadata": {
  "kernelspec": {
   "display_name": "Python 3 (ipykernel)",
   "language": "python",
   "name": "python3"
  },
  "language_info": {
   "codemirror_mode": {
    "name": "ipython",
    "version": 3
   },
   "file_extension": ".py",
   "mimetype": "text/x-python",
   "name": "python",
   "nbconvert_exporter": "python",
   "pygments_lexer": "ipython3",
   "version": "3.8.13"
  }
 },
 "nbformat": 4,
 "nbformat_minor": 5
}
