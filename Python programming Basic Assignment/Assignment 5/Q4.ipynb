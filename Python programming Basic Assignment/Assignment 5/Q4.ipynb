{
 "cells": [
  {
   "cell_type": "code",
   "execution_count": 4,
   "id": "7f138fee",
   "metadata": {},
   "outputs": [
    {
     "name": "stdout",
     "output_type": "stream",
     "text": [
      "Enter a character:- K\n",
      "The ASCII value of K is 75\n"
     ]
    }
   ],
   "source": [
    "def ASCII(x):\n",
    "    print(\"The ASCII value of\",x,\"is\",ord(x))\n",
    "\n",
    "a=str(input(\"Enter a character:- \"))\n",
    "ASCII(a)"
   ]
  }
 ],
 "metadata": {
  "kernelspec": {
   "display_name": "Python 3 (ipykernel)",
   "language": "python",
   "name": "python3"
  },
  "language_info": {
   "codemirror_mode": {
    "name": "ipython",
    "version": 3
   },
   "file_extension": ".py",
   "mimetype": "text/x-python",
   "name": "python",
   "nbconvert_exporter": "python",
   "pygments_lexer": "ipython3",
   "version": "3.8.13"
  }
 },
 "nbformat": 4,
 "nbformat_minor": 5
}
